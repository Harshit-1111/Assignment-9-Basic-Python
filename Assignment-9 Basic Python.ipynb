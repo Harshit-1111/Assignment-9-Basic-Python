{
 "cells": [
  {
   "cell_type": "code",
   "execution_count": null,
   "id": "3feaa76b",
   "metadata": {},
   "outputs": [],
   "source": [
    "#Q1 To what does a relative path refer?\n",
    "Ans Relative paths are relative to the current working directory."
   ]
  },
  {
   "cell_type": "code",
   "execution_count": null,
   "id": "9a44f6a7",
   "metadata": {},
   "outputs": [],
   "source": [
    "#Q2 What does an absolute path start with your operating system?\n",
    "Ans Absolute paths start with the root folder, such as / or C:\\."
   ]
  },
  {
   "cell_type": "code",
   "execution_count": null,
   "id": "70e8816d",
   "metadata": {},
   "outputs": [],
   "source": [
    "#Q3 What do the functions os.getcwd() and os.chdir() do?\n",
    "Ans The os.getcwd() function returns the current working directory. \n",
    "    The os.chdir() function changes the current working directory."
   ]
  },
  {
   "cell_type": "code",
   "execution_count": null,
   "id": "b39773a6",
   "metadata": {},
   "outputs": [],
   "source": [
    "#Q4 What are the . and .. folders?\n",
    "Ans The . folder is the current folder, and .. is the parent folder."
   ]
  },
  {
   "cell_type": "code",
   "execution_count": null,
   "id": "a84e9961",
   "metadata": {},
   "outputs": [],
   "source": [
    "#Q5 In C:\\bacon\\eggs\\spam.txt, which part is the dir name, and which part is the base name?\n",
    "Ans C:\\bacon\\eggs is the dir name, while spam.txt is the base name."
   ]
  },
  {
   "cell_type": "code",
   "execution_count": null,
   "id": "a5217686",
   "metadata": {},
   "outputs": [],
   "source": [
    "#Q6 What are the three \"mode\" arguments that can be passed to the open() function?\n",
    "Ans The string 'r' for read mode, 'w' for write mode, and 'a' for append mode"
   ]
  },
  {
   "cell_type": "code",
   "execution_count": null,
   "id": "bb05f30e",
   "metadata": {},
   "outputs": [],
   "source": [
    "#Q7 What happens if an existing file is opened in write mode?\n",
    "Ans An existing file opened in write mode is erased and completely overwritten."
   ]
  },
  {
   "cell_type": "code",
   "execution_count": null,
   "id": "3f7bcd62",
   "metadata": {},
   "outputs": [],
   "source": [
    "#Q8 How do you tell the difference between read() and readlines()?\n",
    "Ans The read() method returns the file's entire contents as a single string value.\n",
    "    The readlines() method returns a list of strings, where each string is a line from the file's contents."
   ]
  }
 ],
 "metadata": {
  "kernelspec": {
   "display_name": "Python 3 (ipykernel)",
   "language": "python",
   "name": "python3"
  },
  "language_info": {
   "codemirror_mode": {
    "name": "ipython",
    "version": 3
   },
   "file_extension": ".py",
   "mimetype": "text/x-python",
   "name": "python",
   "nbconvert_exporter": "python",
   "pygments_lexer": "ipython3",
   "version": "3.9.7"
  }
 },
 "nbformat": 4,
 "nbformat_minor": 5
}
